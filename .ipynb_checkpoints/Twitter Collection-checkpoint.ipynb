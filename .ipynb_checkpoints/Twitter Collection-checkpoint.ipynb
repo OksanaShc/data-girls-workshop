{
 "cells": [
  {
   "cell_type": "code",
   "execution_count": null,
   "metadata": {
    "collapsed": true
   },
   "outputs": [],
   "source": [
    "''' Notebook to demonstrate how to use the Twitter API to collect tweets and do realtime sentiment analysis '''"
   ]
  }
 ],
 "metadata": {
  "kernelspec": {
   "display_name": "Python [default]",
   "language": "python",
   "name": "python3"
  }
 },
 "nbformat": 4,
 "nbformat_minor": 1
}
